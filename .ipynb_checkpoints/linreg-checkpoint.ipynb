{
 "cells": [
  {
   "cell_type": "code",
   "execution_count": 64,
   "id": "surface-procedure",
   "metadata": {},
   "outputs": [],
   "source": [
    "import quandl\n",
    "import pandas as pd\n",
    "import numpy as np\n",
    "import matplotlib.pyplot as plt\n",
    "import datetime\n",
    "\n",
    "from sklearn.linear_model import LinearRegression\n",
    "from sklearn.model_selection import train_test_split\n",
    "from sklearn import preprocessing"
   ]
  },
  {
   "cell_type": "code",
   "execution_count": 78,
   "id": "interested-mount",
   "metadata": {},
   "outputs": [
    {
     "data": {
      "text/html": [
       "<div>\n",
       "<style scoped>\n",
       "    .dataframe tbody tr th:only-of-type {\n",
       "        vertical-align: middle;\n",
       "    }\n",
       "\n",
       "    .dataframe tbody tr th {\n",
       "        vertical-align: top;\n",
       "    }\n",
       "\n",
       "    .dataframe thead th {\n",
       "        text-align: right;\n",
       "    }\n",
       "</style>\n",
       "<table border=\"1\" class=\"dataframe\">\n",
       "  <thead>\n",
       "    <tr style=\"text-align: right;\">\n",
       "      <th></th>\n",
       "      <th>Adj. Close</th>\n",
       "    </tr>\n",
       "    <tr>\n",
       "      <th>Date</th>\n",
       "      <th></th>\n",
       "    </tr>\n",
       "  </thead>\n",
       "  <tbody>\n",
       "    <tr>\n",
       "      <th>2018-03-21</th>\n",
       "      <td>1581.86</td>\n",
       "    </tr>\n",
       "    <tr>\n",
       "      <th>2018-03-22</th>\n",
       "      <td>1544.10</td>\n",
       "    </tr>\n",
       "    <tr>\n",
       "      <th>2018-03-23</th>\n",
       "      <td>1495.56</td>\n",
       "    </tr>\n",
       "    <tr>\n",
       "      <th>2018-03-26</th>\n",
       "      <td>1555.86</td>\n",
       "    </tr>\n",
       "    <tr>\n",
       "      <th>2018-03-27</th>\n",
       "      <td>1497.05</td>\n",
       "    </tr>\n",
       "  </tbody>\n",
       "</table>\n",
       "</div>"
      ],
      "text/plain": [
       "            Adj. Close\n",
       "Date                  \n",
       "2018-03-21     1581.86\n",
       "2018-03-22     1544.10\n",
       "2018-03-23     1495.56\n",
       "2018-03-26     1555.86\n",
       "2018-03-27     1497.05"
      ]
     },
     "execution_count": 78,
     "metadata": {},
     "output_type": "execute_result"
    }
   ],
   "source": [
    "quandl.ApiConfig.api_key = 'ekUM3Ut18s6GyHRFqxV9'\n",
    "\n",
    "# Quandl API offers data up to 3/27/2018\n",
    "df = quandl.get(\"WIKI/AMZN\", paginate = False)\n",
    "df = df[['Adj. Close']]\n",
    "df.head()\n",
    "df.tail()"
   ]
  },
  {
   "cell_type": "code",
   "execution_count": 79,
   "id": "lonely-interview",
   "metadata": {},
   "outputs": [
    {
     "data": {
      "image/png": "[encoded data removed]",
      "text/plain": [
       "<Figure size 432x288 with 1 Axes>"
      ]
     },
     "metadata": {
      "needs_background": "light"
     },
     "output_type": "display_data"
    }
   ],
   "source": [
    "df['Adj. Close'].plot(color = 'g')\n",
    "\n",
    "plt.legend()\n",
    "plt.show()"
   ]
  },
  {
   "cell_type": "code",
   "execution_count": 80,
   "id": "ranging-pattern",
   "metadata": {},
   "outputs": [],
   "source": [
    "pred_days = 30\n",
    "df['Prediction'] = df['Adj. Close'].shift(-pred_days)\n",
    "\n",
    "X = np.array(df.drop(['Prediction'], 1))\n",
    "X = preprocessing.scale(X)"
   ]
  },
  {
   "cell_type": "code",
   "execution_count": 81,
   "id": "isolated-college",
   "metadata": {},
   "outputs": [],
   "source": [
    "X_pred = X[-pred_days:]\n",
    "X = X[:-pred_days]\n",
    "\n",
    "Y = np.array(df['Prediction'])\n",
    "Y = Y[:-pred_days]"
   ]
  },
  {
   "cell_type": "code",
   "execution_count": 82,
   "id": "unsigned-makeup",
   "metadata": {},
   "outputs": [],
   "source": [
    "try:\n",
    "    X_train, X_test, Y_train, Y_test = train_test_split(X, Y, test_size = 0.2)\n",
    "except:\n",
    "    print(X.shape)\n",
    "    print(Y.shape)"
   ]
  },
  {
   "cell_type": "code",
   "execution_count": 83,
   "id": "clean-following",
   "metadata": {},
   "outputs": [
    {
     "name": "stdout",
     "output_type": "stream",
     "text": [
      "[1492.77194135 1531.41183983 1542.73732732 1528.91621421 1549.70604464\n",
      " 1565.11336049 1567.0591025  1583.17492223 1606.3863555  1595.84339469\n",
      " 1596.34040488 1576.24850365 1583.43928935 1608.14175319 1622.97803605\n",
      " 1630.76100411 1638.01523792 1666.5986111  1687.21924658 1676.42249334\n",
      " 1679.40455447 1670.22572801 1658.97426332 1630.68698131 1674.65652097\n",
      " 1669.73929251 1629.80928247 1578.47976215 1642.24511187 1580.0553902 ]\n"
     ]
    }
   ],
   "source": [
    "clf = LinearRegression()\n",
    "clf.fit(X_train, Y_train)\n",
    "\n",
    "confidence = clf.score(X_test, Y_test)\n",
    "\n",
    "forecast = clf.predict(X_pred)\n",
    "print(forecast)"
   ]
  },
  {
   "cell_type": "code",
   "execution_count": 84,
   "id": "listed-marathon",
   "metadata": {},
   "outputs": [
    {
     "data": {
      "text/plain": [
       "(17262.0, 17653.0)"
      ]
     },
     "execution_count": 84,
     "metadata": {},
     "output_type": "execute_result"
    },
    {
     "data": {
      "image/png": "[encoded data removed]",
      "text/plain": [
       "<Figure size 432x288 with 1 Axes>"
      ]
     },
     "metadata": {
      "needs_background": "light"
     },
     "output_type": "display_data"
    }
   ],
   "source": [
    "dates = pd.date_range(start = '2018-03-28', end = '2018-04-26')\n",
    "plt.plot(dates, forecast, color = 'b')\n",
    "df['Adj. Close'].plot(color = 'g')\n",
    "plt.xlim(xmin = datetime.date(2017,4,6), xmax = datetime.date(2018,5,2))"
   ]
  },
  {
   "cell_type": "code",
   "execution_count": null,
   "id": "commercial-joyce",
   "metadata": {},
   "outputs": [],
   "source": []
  },
  {
   "cell_type": "code",
   "execution_count": null,
   "id": "needed-communication",
   "metadata": {},
   "outputs": [],
   "source": []
  },
  {
   "cell_type": "code",
   "execution_count": null,
   "id": "lyric-vegetable",
   "metadata": {},
   "outputs": [],
   "source": []
  }
 ],
 "metadata": {
  "kernelspec": {
   "display_name": "Python 3",
   "language": "python",
   "name": "python3"
  },
  "language_info": {
   "codemirror_mode": {
    "name": "ipython",
    "version": 3
   },
   "file_extension": ".py",
   "mimetype": "text/x-python",
   "name": "python",
   "nbconvert_exporter": "python",
   "pygments_lexer": "ipython3",
   "version": "3.8.5"
  }
 },
 "nbformat": 4,
 "nbformat_minor": 5
}
