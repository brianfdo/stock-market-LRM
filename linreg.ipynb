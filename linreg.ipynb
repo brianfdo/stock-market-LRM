{
 "cells": [
  {
   "cell_type": "code",
   "execution_count": 13,
   "id": "surface-procedure",
   "metadata": {},
   "outputs": [],
   "source": [
    "import quandl\n",
    "import pandas as pd\n",
    "import numpy as np\n",
    "import matplotlib.pyplot as plt\n",
    "import datetime\n",
    "\n",
    "from sklearn.linear_model import LinearRegression\n",
    "from sklearn.model_selection import train_test_split\n",
    "from sklearn import preprocessing"
   ]
  },
  {
   "cell_type": "code",
   "execution_count": 14,
   "id": "interested-mount",
   "metadata": {},
   "outputs": [
    {
     "data": {
      "text/html": [
       "<div>\n",
       "<style scoped>\n",
       "    .dataframe tbody tr th:only-of-type {\n",
       "        vertical-align: middle;\n",
       "    }\n",
       "\n",
       "    .dataframe tbody tr th {\n",
       "        vertical-align: top;\n",
       "    }\n",
       "\n",
       "    .dataframe thead th {\n",
       "        text-align: right;\n",
       "    }\n",
       "</style>\n",
       "<table border=\"1\" class=\"dataframe\">\n",
       "  <thead>\n",
       "    <tr style=\"text-align: right;\">\n",
       "      <th></th>\n",
       "      <th>Adj. Close</th>\n",
       "    </tr>\n",
       "    <tr>\n",
       "      <th>Date</th>\n",
       "      <th></th>\n",
       "    </tr>\n",
       "  </thead>\n",
       "  <tbody>\n",
       "    <tr>\n",
       "      <th>2018-03-21</th>\n",
       "      <td>1581.86</td>\n",
       "    </tr>\n",
       "    <tr>\n",
       "      <th>2018-03-22</th>\n",
       "      <td>1544.10</td>\n",
       "    </tr>\n",
       "    <tr>\n",
       "      <th>2018-03-23</th>\n",
       "      <td>1495.56</td>\n",
       "    </tr>\n",
       "    <tr>\n",
       "      <th>2018-03-26</th>\n",
       "      <td>1555.86</td>\n",
       "    </tr>\n",
       "    <tr>\n",
       "      <th>2018-03-27</th>\n",
       "      <td>1497.05</td>\n",
       "    </tr>\n",
       "  </tbody>\n",
       "</table>\n",
       "</div>"
      ],
      "text/plain": [
       "            Adj. Close\n",
       "Date                  \n",
       "2018-03-21     1581.86\n",
       "2018-03-22     1544.10\n",
       "2018-03-23     1495.56\n",
       "2018-03-26     1555.86\n",
       "2018-03-27     1497.05"
      ]
     },
     "execution_count": 14,
     "metadata": {},
     "output_type": "execute_result"
    }
   ],
   "source": [
    "quandl.ApiConfig.api_key = 'ekUM3Ut18s6GyHRFqxV9'\n",
    "\n",
    "# Quandl API offers data up to 3/27/2018\n",
    "df = quandl.get(\"WIKI/AMZN\", paginate = False)\n",
    "df = df[['Adj. Close']]\n",
    "df.head()\n",
    "df.tail()"
   ]
  },
  {
   "cell_type": "code",
   "execution_count": 15,
   "id": "lonely-interview",
   "metadata": {},
   "outputs": [
    {
     "data": {
      "image/png": "[encoded data removed]",
      "text/plain": [
       "<Figure size 432x288 with 1 Axes>"
      ]
     },
     "metadata": {
      "needs_background": "light"
     },
     "output_type": "display_data"
    }
   ],
   "source": [
    "df['Adj. Close'].plot(color = 'g')\n",
    "\n",
    "plt.legend()\n",
    "plt.show()"
   ]
  },
  {
   "cell_type": "code",
   "execution_count": 16,
   "id": "ranging-pattern",
   "metadata": {},
   "outputs": [],
   "source": [
    "pred_days = 30\n",
    "df['Prediction'] = df['Adj. Close'].shift(-pred_days)\n",
    "\n",
    "X = np.array(df.drop(['Prediction'], 1))\n",
    "X = preprocessing.scale(X)"
   ]
  },
  {
   "cell_type": "code",
   "execution_count": 17,
   "id": "isolated-college",
   "metadata": {},
   "outputs": [],
   "source": [
    "X_pred = X[-pred_days:]\n",
    "X = X[:-pred_days]\n",
    "\n",
    "Y = np.array(df['Prediction'])\n",
    "Y = Y[:-pred_days]"
   ]
  },
  {
   "cell_type": "code",
   "execution_count": 18,
   "id": "unsigned-makeup",
   "metadata": {},
   "outputs": [],
   "source": [
    "try:\n",
    "    X_train, X_test, Y_train, Y_test = train_test_split(X, Y, test_size = 0.2)\n",
    "except:\n",
    "    print(X.shape)\n",
    "    print(Y.shape)"
   ]
  },
  {
   "cell_type": "code",
   "execution_count": 19,
   "id": "clean-following",
   "metadata": {},
   "outputs": [
    {
     "name": "stdout",
     "output_type": "stream",
     "text": [
      "[1497.82108886 1536.58796504 1547.95067013 1534.08413834 1554.94228792\n",
      " 1570.40023499 1572.35237106 1588.52115029 1611.80886053 1601.23125365\n",
      " 1601.7298971  1581.57197024 1588.78638617 1613.57002677 1628.45506434\n",
      " 1636.26360864 1643.54168118 1672.21898449 1692.90738311 1682.07514979\n",
      " 1685.06701051 1675.85802076 1664.56958172 1636.18934259 1680.30337411\n",
      " 1675.36998675 1635.30875947 1583.81056107 1647.78545526 1585.39136691]\n"
     ]
    }
   ],
   "source": [
    "clf = LinearRegression()\n",
    "clf.fit(X_train, Y_train)\n",
    "\n",
    "confidence = clf.score(X_test, Y_test)\n",
    "\n",
    "forecast = clf.predict(X_pred)\n",
    "print(forecast)"
   ]
  },
  {
   "cell_type": "code",
   "execution_count": 20,
   "id": "listed-marathon",
   "metadata": {},
   "outputs": [
    {
     "data": {
      "text/plain": [
       "(17262.0, 17653.0)"
      ]
     },
     "execution_count": 20,
     "metadata": {},
     "output_type": "execute_result"
    },
    {
     "data": {
      "image/png": "[encoded data removed]",
      "text/plain": [
       "<Figure size 432x288 with 1 Axes>"
      ]
     },
     "metadata": {
      "needs_background": "light"
     },
     "output_type": "display_data"
    }
   ],
   "source": [
    "dates = pd.date_range(start = '2018-03-28', end = '2018-04-26')\n",
    "plt.plot(dates, forecast, color = 'b')\n",
    "df['Adj. Close'].plot(color = 'g')\n",
    "plt.xlim(xmin = datetime.date(2017,4,6), xmax = datetime.date(2018,5,2))"
   ]
  },
  {
   "cell_type": "code",
   "execution_count": 37,
   "id": "commercial-joyce",
   "metadata": {},
   "outputs": [
    {
     "name": "stdout",
     "output_type": "stream",
     "text": [
      "[1495.62531461 1534.33459255 1545.68041539 1531.83448593 1552.66164532\n",
      " 1568.09662561 1570.04586128 1586.1906176  1609.44372791 1598.8818368\n",
      " 1599.37973939 1579.25176235 1586.4554594  1611.20227748 1626.06519947\n",
      " 1633.86214215 1641.12940123 1669.76409698 1690.42175762 1679.60561838\n",
      " 1682.59303392 1673.39772652 1662.12605938 1633.78798645 1677.83647514\n",
      " 1672.9104176  1632.90871166 1581.48702717 1645.36687008 1583.06548432]\n",
      "DatetimeIndex(['2018-03-28', '2018-03-29', '2018-03-30', '2018-03-31',\n",
      "               '2018-04-01', '2018-04-02', '2018-04-03', '2018-04-04',\n",
      "               '2018-04-05', '2018-04-06', '2018-04-07', '2018-04-08',\n",
      "               '2018-04-09', '2018-04-10', '2018-04-11', '2018-04-12',\n",
      "               '2018-04-13', '2018-04-14', '2018-04-15', '2018-04-16',\n",
      "               '2018-04-17', '2018-04-18', '2018-04-19', '2018-04-20',\n",
      "               '2018-04-21', '2018-04-22', '2018-04-23', '2018-04-24',\n",
      "               '2018-04-25', '2018-04-26'],\n",
      "              dtype='datetime64[ns]', freq='D')\n"
     ]
    }
   ],
   "source": [
    "def linearReg(ticker, days):\n",
    "\n",
    "    df = quandl.get(\"WIKI/\" + ticker.upper(), paginate = False)\n",
    "    df = df[['Adj. Close']]\n",
    "    pred_days = days\n",
    "    df['Prediction'] = df['Adj. Close'].shift(-pred_days)\n",
    "\n",
    "    X = np.array(df.drop(['Prediction'], 1))\n",
    "    X = preprocessing.scale(X)\n",
    "    X_pred = X[-pred_days:]\n",
    "    X = X[:-pred_days]\n",
    "\n",
    "    Y = np.array(df['Prediction'])\n",
    "    Y = Y[:-pred_days]  \n",
    "\n",
    "    try:\n",
    "        X_train, X_test, Y_train, Y_test = train_test_split(X, Y, test_size = 0.2)\n",
    "    except:\n",
    "        print(X.shape)\n",
    "        print(Y.shape)\n",
    "\n",
    "    clf = LinearRegression()\n",
    "    clf.fit(X_train, Y_train)\n",
    "    confidence = clf.score(X_test, Y_test)\n",
    "\n",
    "    forecast = clf.predict(X_pred)\n",
    "    \n",
    "    end_date = datetime.date(2018,3,28) + datetime.timedelta(days = pred_days - 1) \n",
    "    dates = pd.date_range(start = '2018-03-28', end = end_date.isoformat())\n",
    "    return dates, forecast\n",
    "test = linearReg(\"AMZN\", 30)\n",
    "print(test[1])\n",
    "print(test[0])\n"
   ]
  },
  {
   "cell_type": "code",
   "execution_count": null,
   "id": "needed-communication",
   "metadata": {},
   "outputs": [],
   "source": []
  },
  {
   "cell_type": "code",
   "execution_count": null,
   "id": "lyric-vegetable",
   "metadata": {},
   "outputs": [],
   "source": []
  }
 ],
 "metadata": {
  "kernelspec": {
   "display_name": "Python 3",
   "language": "python",
   "name": "python3"
  },
  "language_info": {
   "codemirror_mode": {
    "name": "ipython",
    "version": 3
   },
   "file_extension": ".py",
   "mimetype": "text/x-python",
   "name": "python",
   "nbconvert_exporter": "python",
   "pygments_lexer": "ipython3",
   "version": "3.8.5"
  }
 },
 "nbformat": 4,
 "nbformat_minor": 5
}
